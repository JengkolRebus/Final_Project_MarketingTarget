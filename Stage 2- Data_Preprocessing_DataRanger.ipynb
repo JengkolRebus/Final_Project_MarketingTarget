{
 "cells": [
  {
   "cell_type": "markdown",
   "id": "7f0a0ae5-65ea-47ec-8de2-8673861ab95c",
   "metadata": {},
   "source": [
    "## Data Preparation"
   ]
  },
  {
   "cell_type": "markdown",
   "id": "48a5c256-e99e-4ef6-9b9a-0164f7c09216",
   "metadata": {},
   "source": [
    "Mempersiapkan dan memastikan bahwa data yang digunakan untuk analisis adalah data yang berkualitas dan dapat digunakan untuk modelling"
   ]
  },
  {
   "cell_type": "code",
   "execution_count": 3,
   "id": "5131d6be",
   "metadata": {},
   "outputs": [
    {
     "data": {
      "text/html": [
       "<div>\n",
       "<style scoped>\n",
       "    .dataframe tbody tr th:only-of-type {\n",
       "        vertical-align: middle;\n",
       "    }\n",
       "\n",
       "    .dataframe tbody tr th {\n",
       "        vertical-align: top;\n",
       "    }\n",
       "\n",
       "    .dataframe thead th {\n",
       "        text-align: right;\n",
       "    }\n",
       "</style>\n",
       "<table border=\"1\" class=\"dataframe\">\n",
       "  <thead>\n",
       "    <tr style=\"text-align: right;\">\n",
       "      <th></th>\n",
       "      <th>age</th>\n",
       "      <th>job</th>\n",
       "      <th>marital</th>\n",
       "      <th>education</th>\n",
       "      <th>default</th>\n",
       "      <th>balance</th>\n",
       "      <th>housing</th>\n",
       "      <th>loan</th>\n",
       "      <th>contact</th>\n",
       "      <th>day</th>\n",
       "      <th>month</th>\n",
       "      <th>duration</th>\n",
       "      <th>campaign</th>\n",
       "      <th>pdays</th>\n",
       "      <th>previous</th>\n",
       "      <th>poutcome</th>\n",
       "      <th>y</th>\n",
       "    </tr>\n",
       "  </thead>\n",
       "  <tbody>\n",
       "    <tr>\n",
       "      <th>25311</th>\n",
       "      <td>35</td>\n",
       "      <td>technician</td>\n",
       "      <td>married</td>\n",
       "      <td>tertiary</td>\n",
       "      <td>no</td>\n",
       "      <td>14232</td>\n",
       "      <td>yes</td>\n",
       "      <td>no</td>\n",
       "      <td>cellular</td>\n",
       "      <td>18</td>\n",
       "      <td>nov</td>\n",
       "      <td>372</td>\n",
       "      <td>2</td>\n",
       "      <td>-1</td>\n",
       "      <td>0</td>\n",
       "      <td>unknown</td>\n",
       "      <td>no</td>\n",
       "    </tr>\n",
       "    <tr>\n",
       "      <th>17223</th>\n",
       "      <td>33</td>\n",
       "      <td>management</td>\n",
       "      <td>married</td>\n",
       "      <td>tertiary</td>\n",
       "      <td>no</td>\n",
       "      <td>0</td>\n",
       "      <td>yes</td>\n",
       "      <td>no</td>\n",
       "      <td>cellular</td>\n",
       "      <td>28</td>\n",
       "      <td>jul</td>\n",
       "      <td>54</td>\n",
       "      <td>3</td>\n",
       "      <td>-1</td>\n",
       "      <td>0</td>\n",
       "      <td>unknown</td>\n",
       "      <td>no</td>\n",
       "    </tr>\n",
       "    <tr>\n",
       "      <th>39134</th>\n",
       "      <td>39</td>\n",
       "      <td>blue-collar</td>\n",
       "      <td>married</td>\n",
       "      <td>secondary</td>\n",
       "      <td>no</td>\n",
       "      <td>161</td>\n",
       "      <td>yes</td>\n",
       "      <td>no</td>\n",
       "      <td>cellular</td>\n",
       "      <td>18</td>\n",
       "      <td>may</td>\n",
       "      <td>98</td>\n",
       "      <td>2</td>\n",
       "      <td>-1</td>\n",
       "      <td>0</td>\n",
       "      <td>unknown</td>\n",
       "      <td>no</td>\n",
       "    </tr>\n",
       "    <tr>\n",
       "      <th>44498</th>\n",
       "      <td>32</td>\n",
       "      <td>technician</td>\n",
       "      <td>married</td>\n",
       "      <td>secondary</td>\n",
       "      <td>no</td>\n",
       "      <td>473</td>\n",
       "      <td>no</td>\n",
       "      <td>yes</td>\n",
       "      <td>cellular</td>\n",
       "      <td>10</td>\n",
       "      <td>aug</td>\n",
       "      <td>1064</td>\n",
       "      <td>1</td>\n",
       "      <td>95</td>\n",
       "      <td>3</td>\n",
       "      <td>success</td>\n",
       "      <td>yes</td>\n",
       "    </tr>\n",
       "    <tr>\n",
       "      <th>34974</th>\n",
       "      <td>28</td>\n",
       "      <td>admin.</td>\n",
       "      <td>single</td>\n",
       "      <td>secondary</td>\n",
       "      <td>no</td>\n",
       "      <td>177</td>\n",
       "      <td>yes</td>\n",
       "      <td>yes</td>\n",
       "      <td>cellular</td>\n",
       "      <td>6</td>\n",
       "      <td>may</td>\n",
       "      <td>150</td>\n",
       "      <td>1</td>\n",
       "      <td>-1</td>\n",
       "      <td>0</td>\n",
       "      <td>unknown</td>\n",
       "      <td>no</td>\n",
       "    </tr>\n",
       "  </tbody>\n",
       "</table>\n",
       "</div>"
      ],
      "text/plain": [
       "       age          job  marital  education default  balance housing loan  \\\n",
       "25311   35   technician  married   tertiary      no    14232     yes   no   \n",
       "17223   33   management  married   tertiary      no        0     yes   no   \n",
       "39134   39  blue-collar  married  secondary      no      161     yes   no   \n",
       "44498   32   technician  married  secondary      no      473      no  yes   \n",
       "34974   28       admin.   single  secondary      no      177     yes  yes   \n",
       "\n",
       "        contact  day month  duration  campaign  pdays  previous poutcome    y  \n",
       "25311  cellular   18   nov       372         2     -1         0  unknown   no  \n",
       "17223  cellular   28   jul        54         3     -1         0  unknown   no  \n",
       "39134  cellular   18   may        98         2     -1         0  unknown   no  \n",
       "44498  cellular   10   aug      1064         1     95         3  success  yes  \n",
       "34974  cellular    6   may       150         1     -1         0  unknown   no  "
      ]
     },
     "execution_count": 3,
     "metadata": {},
     "output_type": "execute_result"
    }
   ],
   "source": [
    "import warnings\n",
    "warnings.filterwarnings('ignore')\n",
    "\n",
    "import numpy as np\n",
    "import pandas as pd\n",
    "import seaborn as sns\n",
    "import matplotlib.pyplot as plt\n",
    "import math\n",
    "\n",
    "df = pd.read_csv('train.csv', sep = ';')\n",
    "df.sample(5)"
   ]
  },
  {
   "cell_type": "code",
   "execution_count": 8,
   "id": "e78ae4c3",
   "metadata": {},
   "outputs": [
    {
     "data": {
      "text/plain": [
       "(Index(['job', 'marital', 'education', 'default', 'housing', 'loan', 'contact',\n",
       "        'month', 'poutcome', 'y'],\n",
       "       dtype='object'),\n",
       " Index(['age', 'balance', 'day', 'duration', 'campaign', 'pdays', 'previous'], dtype='object'))"
      ]
     },
     "execution_count": 8,
     "metadata": {},
     "output_type": "execute_result"
    }
   ],
   "source": [
    "cats = df.select_dtypes(include = ['object']).columns\n",
    "nums = df.select_dtypes(include = ['int64', 'float64']).columns\n",
    "\n",
    "cats, nums"
   ]
  },
  {
   "cell_type": "markdown",
   "id": "9d1a1591-80bd-4346-b27d-a6bef6f92e8a",
   "metadata": {},
   "source": [
    "### Missing Values"
   ]
  },
  {
   "cell_type": "code",
   "execution_count": 4,
   "id": "1e833041-5217-46d1-83be-7b915f6faeeb",
   "metadata": {},
   "outputs": [
    {
     "data": {
      "text/plain": [
       "age          0\n",
       "job          0\n",
       "marital      0\n",
       "education    0\n",
       "default      0\n",
       "balance      0\n",
       "housing      0\n",
       "loan         0\n",
       "contact      0\n",
       "day          0\n",
       "month        0\n",
       "duration     0\n",
       "campaign     0\n",
       "pdays        0\n",
       "previous     0\n",
       "poutcome     0\n",
       "y            0\n",
       "dtype: int64"
      ]
     },
     "execution_count": 4,
     "metadata": {},
     "output_type": "execute_result"
    }
   ],
   "source": [
    "df.isna().sum()"
   ]
  },
  {
   "cell_type": "markdown",
   "id": "48d40813-a833-4014-8990-b0d5157d5c4e",
   "metadata": {},
   "source": [
    "Tidak perlu handling missing values, dikarenakan tidak ada kolom yang null"
   ]
  },
  {
   "cell_type": "markdown",
   "id": "7ff6173e-9fa1-4e04-bffb-93194e07d42c",
   "metadata": {},
   "source": [
    "### Duplicate Values"
   ]
  },
  {
   "cell_type": "code",
   "execution_count": 6,
   "id": "fe096137-4049-44d0-a27d-c1e46849c795",
   "metadata": {},
   "outputs": [
    {
     "data": {
      "text/plain": [
       "False"
      ]
     },
     "execution_count": 6,
     "metadata": {},
     "output_type": "execute_result"
    }
   ],
   "source": [
    "df.duplicated().any()"
   ]
  },
  {
   "cell_type": "markdown",
   "id": "37f5fe7d-13f1-42e1-89a2-f552d5b44be2",
   "metadata": {},
   "source": [
    "Tidak perlu handling duplicated values di karenakan tidak ada value duplikat"
   ]
  },
  {
   "cell_type": "markdown",
   "id": "3c7d8ecd-4a0d-4e0f-b0cb-e42c190dea27",
   "metadata": {},
   "source": [
    "### Penanganan Outliers "
   ]
  },
  {
   "cell_type": "markdown",
   "id": "b9284e35-8418-48fa-a665-ab079fae493b",
   "metadata": {},
   "source": [
    "Kami mempertimbangkan untuk  penanganan outliers menggunakan Z-score untuk menentukan seberapa jauh suatu data berada dari rata-rata, dengan Z-score tinggi dianggap sebagai outlier atau nilai ekstrem , kami mempertimbangkan dengan memilih z-score dikarenakan kami tidak ingin kehilangan banyak data. Dikarenakan data nya tidak berdistribusi normal maka kami melakukan log transformasi terlebih dahulu."
   ]
  },
  {
   "cell_type": "code",
   "execution_count": 9,
   "id": "a3b32c68",
   "metadata": {},
   "outputs": [
    {
     "name": "stdout",
     "output_type": "stream",
     "text": [
      "Total negative value of age: 0\n",
      "Total negative value of balance: 0\n",
      "Total negative value of day: 0\n",
      "Total negative value of duration: 0\n",
      "Total negative value of campaign: 0\n",
      "Total negative value of pdays: 0\n",
      "Total negative value of previous: 0\n"
     ]
    }
   ],
   "source": [
    "for i in nums:\n",
    "    if (df[i] < 0).any():\n",
    "        df[i] = df.apply(lambda x : int(0) if int(x[i]) < 0 else x[i], axis = 1)\n",
    "    print(f\"Total negative value of {i}:\", (df[i] < 0).sum())"
   ]
  },
  {
   "cell_type": "markdown",
   "id": "b3641837-718a-4b1b-98f2-61f3221e51c2",
   "metadata": {},
   "source": [
    "Sebelum melakukan log transformasi, dicek terlebih dahulu agar tidak ada negatif values ketika log transformasi"
   ]
  },
  {
   "cell_type": "code",
   "execution_count": 187,
   "id": "fde278e7",
   "metadata": {},
   "outputs": [],
   "source": [
    "# df = df[df['education'] != 'unknown']"
   ]
  },
  {
   "cell_type": "code",
   "execution_count": 10,
   "id": "47eb7bd7",
   "metadata": {},
   "outputs": [],
   "source": [
    "for i in nums:\n",
    "    if i not in ['age', 'day']:\n",
    "        df[i] = np.log(df[i] + (df[df[i] > 0][i].min() / 2))"
   ]
  },
  {
   "cell_type": "code",
   "execution_count": 11,
   "id": "272e0289-1294-4639-93a8-124c2f8c1ddf",
   "metadata": {},
   "outputs": [
    {
     "data": {
      "text/html": [
       "<div>\n",
       "<style scoped>\n",
       "    .dataframe tbody tr th:only-of-type {\n",
       "        vertical-align: middle;\n",
       "    }\n",
       "\n",
       "    .dataframe tbody tr th {\n",
       "        vertical-align: top;\n",
       "    }\n",
       "\n",
       "    .dataframe thead th {\n",
       "        text-align: right;\n",
       "    }\n",
       "</style>\n",
       "<table border=\"1\" class=\"dataframe\">\n",
       "  <thead>\n",
       "    <tr style=\"text-align: right;\">\n",
       "      <th></th>\n",
       "      <th>age</th>\n",
       "      <th>balance</th>\n",
       "      <th>day</th>\n",
       "      <th>duration</th>\n",
       "      <th>campaign</th>\n",
       "      <th>pdays</th>\n",
       "      <th>previous</th>\n",
       "    </tr>\n",
       "  </thead>\n",
       "  <tbody>\n",
       "    <tr>\n",
       "      <th>count</th>\n",
       "      <td>45211.000000</td>\n",
       "      <td>45211.000000</td>\n",
       "      <td>45211.000000</td>\n",
       "      <td>45211.000000</td>\n",
       "      <td>45211.000000</td>\n",
       "      <td>45211.000000</td>\n",
       "      <td>45211.000000</td>\n",
       "    </tr>\n",
       "    <tr>\n",
       "      <th>mean</th>\n",
       "      <td>40.936210</td>\n",
       "      <td>5.199427</td>\n",
       "      <td>15.806419</td>\n",
       "      <td>5.167016</td>\n",
       "      <td>0.963267</td>\n",
       "      <td>0.389388</td>\n",
       "      <td>-0.373537</td>\n",
       "    </tr>\n",
       "    <tr>\n",
       "      <th>std</th>\n",
       "      <td>10.618762</td>\n",
       "      <td>3.007085</td>\n",
       "      <td>8.322476</td>\n",
       "      <td>0.927908</td>\n",
       "      <td>0.590519</td>\n",
       "      <td>2.311494</td>\n",
       "      <td>0.727591</td>\n",
       "    </tr>\n",
       "    <tr>\n",
       "      <th>min</th>\n",
       "      <td>18.000000</td>\n",
       "      <td>-0.693147</td>\n",
       "      <td>1.000000</td>\n",
       "      <td>-0.693147</td>\n",
       "      <td>0.405465</td>\n",
       "      <td>-0.693147</td>\n",
       "      <td>-0.693147</td>\n",
       "    </tr>\n",
       "    <tr>\n",
       "      <th>25%</th>\n",
       "      <td>33.000000</td>\n",
       "      <td>4.283587</td>\n",
       "      <td>8.000000</td>\n",
       "      <td>4.639572</td>\n",
       "      <td>0.405465</td>\n",
       "      <td>-0.693147</td>\n",
       "      <td>-0.693147</td>\n",
       "    </tr>\n",
       "    <tr>\n",
       "      <th>50%</th>\n",
       "      <td>39.000000</td>\n",
       "      <td>6.105909</td>\n",
       "      <td>16.000000</td>\n",
       "      <td>5.195731</td>\n",
       "      <td>0.916291</td>\n",
       "      <td>-0.693147</td>\n",
       "      <td>-0.693147</td>\n",
       "    </tr>\n",
       "    <tr>\n",
       "      <th>75%</th>\n",
       "      <td>48.000000</td>\n",
       "      <td>7.264380</td>\n",
       "      <td>21.000000</td>\n",
       "      <td>5.766757</td>\n",
       "      <td>1.252763</td>\n",
       "      <td>-0.693147</td>\n",
       "      <td>-0.693147</td>\n",
       "    </tr>\n",
       "    <tr>\n",
       "      <th>max</th>\n",
       "      <td>95.000000</td>\n",
       "      <td>11.533977</td>\n",
       "      <td>31.000000</td>\n",
       "      <td>8.500759</td>\n",
       "      <td>4.151040</td>\n",
       "      <td>6.770216</td>\n",
       "      <td>5.618588</td>\n",
       "    </tr>\n",
       "  </tbody>\n",
       "</table>\n",
       "</div>"
      ],
      "text/plain": [
       "                age       balance           day      duration      campaign  \\\n",
       "count  45211.000000  45211.000000  45211.000000  45211.000000  45211.000000   \n",
       "mean      40.936210      5.199427     15.806419      5.167016      0.963267   \n",
       "std       10.618762      3.007085      8.322476      0.927908      0.590519   \n",
       "min       18.000000     -0.693147      1.000000     -0.693147      0.405465   \n",
       "25%       33.000000      4.283587      8.000000      4.639572      0.405465   \n",
       "50%       39.000000      6.105909     16.000000      5.195731      0.916291   \n",
       "75%       48.000000      7.264380     21.000000      5.766757      1.252763   \n",
       "max       95.000000     11.533977     31.000000      8.500759      4.151040   \n",
       "\n",
       "              pdays      previous  \n",
       "count  45211.000000  45211.000000  \n",
       "mean       0.389388     -0.373537  \n",
       "std        2.311494      0.727591  \n",
       "min       -0.693147     -0.693147  \n",
       "25%       -0.693147     -0.693147  \n",
       "50%       -0.693147     -0.693147  \n",
       "75%       -0.693147     -0.693147  \n",
       "max        6.770216      5.618588  "
      ]
     },
     "execution_count": 11,
     "metadata": {},
     "output_type": "execute_result"
    }
   ],
   "source": [
    "df.describe()"
   ]
  },
  {
   "cell_type": "markdown",
   "id": "5b4b6347-faa4-40c1-b197-d38fac11c462",
   "metadata": {},
   "source": [
    "Terlihat dari `df.describe()` bahwa data sudah berdistribusi normal"
   ]
  },
  {
   "cell_type": "code",
   "execution_count": 12,
   "id": "d340eebb",
   "metadata": {},
   "outputs": [
    {
     "name": "stdout",
     "output_type": "stream",
     "text": [
      "Before removing outlier:  45211\n",
      "After removing outlier:  43173\n"
     ]
    }
   ],
   "source": [
    "from scipy import stats\n",
    "\n",
    "print(\"Before removing outlier: \", len(df))\n",
    "\n",
    "for i in nums:\n",
    "    if i not in ['age', 'day']:\n",
    "        z_scores = np.abs(stats.zscore(df[i]))\n",
    "        df = df[z_scores <= 3]\n",
    "\n",
    "print(\"After removing outlier: \", len(df))"
   ]
  },
  {
   "cell_type": "markdown",
   "id": "07af62d3-36b3-47c9-a989-b055365664ce",
   "metadata": {},
   "source": [
    "Setelah removing outlier dengan zscore terdapat 2.038 data yang di remove"
   ]
  },
  {
   "cell_type": "markdown",
   "id": "3c78df17-1252-4a8d-90b0-e2322341fca3",
   "metadata": {},
   "source": [
    "### Normalization Transformation"
   ]
  },
  {
   "cell_type": "markdown",
   "id": "c6dd2ec9-d069-43b5-b010-e687a53c1576",
   "metadata": {},
   "source": [
    "Seebelum dilakukan scalling dengan normalization, data perlu di split terlebih dahulu, menjadi train dan test"
   ]
  },
  {
   "cell_type": "code",
   "execution_count": 13,
   "id": "548af49a",
   "metadata": {},
   "outputs": [],
   "source": [
    "X = df.drop(columns=['y'])\n",
    "y = df[['y']]\n",
    "\n",
    "from sklearn.model_selection import train_test_split\n",
    "\n",
    "X_train, X_test, y_train, y_test = train_test_split(X, y, test_size=0.3)"
   ]
  },
  {
   "cell_type": "code",
   "execution_count": 14,
   "id": "cd64fd50",
   "metadata": {},
   "outputs": [],
   "source": [
    "from sklearn.preprocessing import MinMaxScaler\n",
    "\n",
    "scaler = MinMaxScaler()\n",
    "for i in list(X_train.select_dtypes(include = ['int64', 'float64']).columns):\n",
    "    fitted = scaler.fit(X_train[[i]])\n",
    "    X_train[i] = fitted.transform(X_train[[i]])\n",
    "    X_test[i] = fitted.transform(X_test[[i]])"
   ]
  },
  {
   "cell_type": "code",
   "execution_count": 15,
   "id": "f5a273b8",
   "metadata": {},
   "outputs": [],
   "source": [
    "train = pd.concat([X_train, y_train], axis = 1)\n",
    "test = pd.concat([X_test, y_test], axis = 1)\n",
    "\n",
    "train = train[train['education'] != 'unknown']\n",
    "test = test[test['education'] != 'unknown']\n",
    "\n",
    "X_train = train.drop(columns=['y'])\n",
    "y_train = train[['y']]\n",
    "\n",
    "X_test = test.drop(columns=['y'])\n",
    "y_test = test[['y']]"
   ]
  },
  {
   "cell_type": "markdown",
   "id": "44e1124d-0ce8-4653-a577-d40f75832bb4",
   "metadata": {},
   "source": [
    "### Lable Encoding & One Hot Encoding"
   ]
  },
  {
   "cell_type": "markdown",
   "id": "c53c99a0-c8e8-4e22-9129-20e83af347b4",
   "metadata": {},
   "source": [
    "Fitur-fitur kategorikal perlu di-encode menjadi representasi numerik agar dapat digunakan dalam model. dengan label encoding pada kolom `married`,`education`, `default`, `housing`, `loan` dan `month`. untuk kolom month di jadikan 4 kuartal menjadi 'month quarter'\n",
    "dan one hot encoding untuk kolom `job`, `contact` dan `month quarter`"
   ]
  },
  {
   "cell_type": "code",
   "execution_count": 16,
   "id": "9acb7c2a",
   "metadata": {},
   "outputs": [],
   "source": [
    "X_train['is_married'] = X_train['marital'].apply(lambda x : 1 if x == 'married' else 0)\n",
    "\n",
    "X_test['is_married'] = X_test['marital'].apply(lambda x : 1 if x == 'married' else 0)\n",
    "\n",
    "X_train['education_mapped'] = X_train['education'].map({'primary' : 0,\n",
    "                                                        'secondary' : 1,\n",
    "                                                        'tertiary' : 2})\n",
    "\n",
    "X_test['education_mapped'] = X_test['education'].map({'primary' : 0,\n",
    "                                                      'secondary' : 1,\n",
    "                                                      'tertiary' : 2})\n",
    "\n",
    "X_train['is_default'] = X_train['default'].map({'no' : 0,\n",
    "                                                'yes' : 1})\n",
    "\n",
    "X_test['is_default'] = X_test['default'].map({'no' : 0,\n",
    "                                              'yes' : 1})\n",
    "\n",
    "X_train['is_housing'] = X_train['housing'].map({'no' : 0,\n",
    "                                                'yes' : 1})\n",
    "\n",
    "X_test['is_housing'] = X_test['housing'].map({'no' : 0,\n",
    "                                              'yes' : 1})\n",
    "\n",
    "X_train['is_loan'] = X_train['loan'].map({'no' : 0,\n",
    "                                          'yes' : 1})\n",
    "\n",
    "X_test['is_loan'] = X_test['loan'].map({'no' : 0,\n",
    "                                        'yes' : 1})\n",
    "\n",
    "X_train['month_quarter'] = X_train['month'].apply(lambda x : 'first' if x in ['jan', 'feb', 'mar'] else 'second'\\\n",
    "                                                                     if x in ['apr', 'may', 'jun'] else 'third'\\\n",
    "                                                                     if x in ['jul', 'aug', 'sep'] else 'fourth')\n",
    "\n",
    "X_test['month_quarter'] = X_test['month'].apply(lambda x : 'first' if x in ['jan', 'feb', 'mar'] else 'second'\\\n",
    "                                                                   if x in ['apr', 'may', 'jun'] else 'third'\\\n",
    "                                                                   if x in ['jul', 'aug', 'sep'] else 'fourth')\n",
    "\n",
    "X_train['is_poutcome_succcess'] = X_train['poutcome'].apply(lambda x : 1 if x == 'success' else 0)\n",
    "\n",
    "X_test['is_poutcome_succcess'] = X_test['poutcome'].apply(lambda x : 1 if x == 'success' else 0)\n",
    "\n",
    "y_train['y'] = y_train['y'].map({'no' : 0,\n",
    "                                 'yes' : 1})\n",
    "\n",
    "y_test['y'] = y_test['y'].map({'no' : 0,\n",
    "                               'yes' : 1})"
   ]
  },
  {
   "cell_type": "code",
   "execution_count": 17,
   "id": "077a409b",
   "metadata": {},
   "outputs": [],
   "source": [
    "for i in ['job', 'contact', 'month_quarter']:\n",
    "    X_train = pd.concat([X_train, pd.get_dummies(X_train[i], prefix = i)], axis = 1)\n",
    "    X_test = pd.concat([X_test, pd.get_dummies(X_test[i], prefix = i)], axis = 1)"
   ]
  },
  {
   "cell_type": "code",
   "execution_count": 18,
   "id": "65f27caf",
   "metadata": {},
   "outputs": [],
   "source": [
    "X_train = X_train.drop(columns = list(X_train.select_dtypes(include = ['object']).columns) + ['month_quarter'])\n",
    "X_test = X_test.drop(columns = list(X_test.select_dtypes(include = ['object']).columns) + ['month_quarter'])"
   ]
  },
  {
   "cell_type": "code",
   "execution_count": 19,
   "id": "ac4f119e",
   "metadata": {},
   "outputs": [],
   "source": [
    "col = ['age', 'balance', 'is_married', 'education_mapped', 'is_default', 'is_housing', 'is_loan', 'job_admin.',\\\n",
    "       'job_blue-collar', 'job_entrepreneur', 'job_housemaid', 'job_management', 'job_retired', 'job_self-employed',\\\n",
    "       'job_services', 'job_student', 'job_technician', 'job_unemployed', 'job_unknown']\n",
    "\n",
    "X_train = X_train.drop(columns = [i for i in X_train.columns if i not in col])\n",
    "X_test = X_test.drop(columns = [i for i in X_test.columns if i not in col])"
   ]
  },
  {
   "cell_type": "code",
   "execution_count": 20,
   "id": "0a950558",
   "metadata": {},
   "outputs": [
    {
     "data": {
      "text/plain": [
       "(Index(['age', 'balance', 'is_married', 'education_mapped', 'is_default',\n",
       "        'is_housing', 'is_loan', 'job_admin.', 'job_blue-collar',\n",
       "        'job_entrepreneur', 'job_housemaid', 'job_management', 'job_retired',\n",
       "        'job_self-employed', 'job_services', 'job_student', 'job_technician',\n",
       "        'job_unemployed', 'job_unknown'],\n",
       "       dtype='object'),\n",
       " 19)"
      ]
     },
     "execution_count": 20,
     "metadata": {},
     "output_type": "execute_result"
    }
   ],
   "source": [
    "X_train.columns, len(X_train.columns)"
   ]
  },
  {
   "cell_type": "markdown",
   "id": "9d3291bb-25ad-46a1-abb6-4a4f322f8166",
   "metadata": {},
   "source": [
    "### Class Imbalance"
   ]
  },
  {
   "cell_type": "markdown",
   "id": "11ffbce8-2d00-421d-99e8-a32771377dee",
   "metadata": {},
   "source": [
    "Dikarenakan fitur target 'y' itu memiliki data imbalance maka kami mempertimbangkan untuk handling class imbalance dengan SMOTE"
   ]
  },
  {
   "cell_type": "code",
   "execution_count": 185,
   "id": "1c939480",
   "metadata": {},
   "outputs": [],
   "source": [
    "from imblearn import over_sampling\n",
    "\n",
    "X_train_over, y_train_over = over_sampling.SMOTE(sampling_strategy = 0.5).fit_resample(X_train, y_train)"
   ]
  },
  {
   "cell_type": "code",
   "execution_count": 186,
   "id": "fb26181f",
   "metadata": {},
   "outputs": [
    {
     "data": {
      "text/plain": [
       "3014"
      ]
     },
     "execution_count": 186,
     "metadata": {},
     "output_type": "execute_result"
    }
   ],
   "source": [
    "pd.concat([X_train, y_train], axis = 1).duplicated().sum()"
   ]
  },
  {
   "cell_type": "code",
   "execution_count": 187,
   "id": "2d01ebc7",
   "metadata": {},
   "outputs": [
    {
     "data": {
      "text/plain": [
       "741"
      ]
     },
     "execution_count": 187,
     "metadata": {},
     "output_type": "execute_result"
    }
   ],
   "source": [
    "pd.concat([X_test, y_test], axis = 1).duplicated().sum()"
   ]
  },
  {
   "cell_type": "code",
   "execution_count": 188,
   "id": "aa89c012",
   "metadata": {},
   "outputs": [],
   "source": [
    "train = pd.concat([X_train, y_train], axis = 1)\n",
    "test = pd.concat([X_test, y_test], axis = 1)\n",
    "\n",
    "train = train.drop_duplicates()\n",
    "test = test.drop_duplicates()\n",
    "\n",
    "X_train = train.drop(columns=['y'])\n",
    "y_train = train[['y']]\n",
    "\n",
    "X_test = test.drop(columns=['y'])\n",
    "y_test = test[['y']]"
   ]
  },
  {
   "cell_type": "code",
   "execution_count": 96,
   "id": "fa4d95bb",
   "metadata": {},
   "outputs": [
    {
     "data": {
      "text/plain": [
       "(-3.95, 104.95, -0.010874824635684585, 0.22837131734937627)"
      ]
     },
     "execution_count": 96,
     "metadata": {},
     "output_type": "execute_result"
    },
    {
     "data": {
      "image/png": "[encoded data removed]",
      "text/plain": [
       "<Figure size 550x400 with 1 Axes>"
      ]
     },
     "metadata": {},
     "output_type": "display_data"
    }
   ],
   "source": [
    "from sklearn.feature_selection import SelectPercentile\n",
    "from sklearn.pipeline import Pipeline\n",
    "from sklearn.ensemble import RandomForestClassifier\n",
    "from sklearn.model_selection import cross_val_score\n",
    "\n",
    "clf = Pipeline(\n",
    "    [\n",
    "        (\"picker\", SelectPercentile()),\n",
    "        (\"rf\", RandomForestClassifier()),\n",
    "    ]\n",
    ")\n",
    "\n",
    "score_means = list()\n",
    "percentiles = (1, 3, 6, 10, 15, 20, 30, 40, 60, 80, 100)\n",
    "\n",
    "for percentile in percentiles:\n",
    "    clf.set_params(picker__percentile=percentile)\n",
    "    this_scores = cross_val_score(clf, pd.concat([X_train, X_test]), pd.concat([y_train, y_test]), scoring = 'recall')\n",
    "    score_means.append(this_scores.mean())\n",
    "\n",
    "plt.figure(figsize = (5.5, 4), facecolor='#e8e6e1')\n",
    "ax = plt.axes()\n",
    "ax.set_facecolor('#f1f2f2')\n",
    "plt.plot(percentiles, score_means)\n",
    "plt.title(\"Performance of the RF-Cross Val Recall Model\\nvarying the percentile of features selected\")\n",
    "plt.xticks(np.linspace(0, 100, 11, endpoint=True))\n",
    "plt.xlabel(\"Percentile\")\n",
    "plt.ylabel(\"Recall Score\")\n",
    "plt.axis(\"tight\")"
   ]
  },
  {
   "cell_type": "code",
   "execution_count": 189,
   "id": "8eefc4e3",
   "metadata": {},
   "outputs": [
    {
     "data": {
      "text/plain": [
       "Text(0.5, 1.0, 'Recursive Feature Elimination \\nwith correlated features')"
      ]
     },
     "execution_count": 189,
     "metadata": {},
     "output_type": "execute_result"
    },
    {
     "data": {
      "image/png": "[encoded data removed]",
      "text/plain": [
       "<Figure size 550x400 with 1 Axes>"
      ]
     },
     "metadata": {},
     "output_type": "display_data"
    }
   ],
   "source": [
    "from sklearn.feature_selection import RFECV\n",
    "from sklearn.model_selection import StratifiedKFold\n",
    "\n",
    "min_features_to_select = 1\n",
    "clf = RandomForestClassifier()\n",
    "cv = StratifiedKFold(5)\n",
    "\n",
    "rfecv = RFECV(\n",
    "    estimator=clf,\n",
    "    step=1,\n",
    "    cv=cv,\n",
    "    scoring=\"recall\",\n",
    "    min_features_to_select=min_features_to_select,\n",
    "    n_jobs=-1,\n",
    ")\n",
    "rfecv.fit(pd.concat([X_train, X_test]), pd.concat([y_train, y_test]))\n",
    "\n",
    "n_scores = len(rfecv.cv_results_[\"mean_test_score\"])\n",
    "plt.figure(figsize = (5.5, 4), facecolor='#e8e6e1')\n",
    "ax = plt.axes()\n",
    "ax.set_facecolor('#f1f2f2')\n",
    "plt.xlabel(\"Number of features selected\")\n",
    "plt.ylabel(\"Mean test recall\")\n",
    "plt.plot(\n",
    "    range(min_features_to_select, n_scores + min_features_to_select),\n",
    "    rfecv.cv_results_[\"mean_test_score\"]\n",
    ")\n",
    "plt.title(\"Recursive Feature Elimination \\nwith correlated features\")\n",
    "\n",
    "# print(f\"Optimal number of features: {rfecv.n_features_}\")"
   ]
  },
  {
   "cell_type": "markdown",
   "id": "24c6516d",
   "metadata": {},
   "source": [
    "Berdasarkan hasil validasi model menggunakan filter method yang mengukur mean recall scoring parameter pada beberapa persentase fitur yang terlibat dalam proses pembentukan model diperoleh kondisi optimal dengan memanfaatkan percentile 60 dari fitur atau sekitar 11 fitur dari eksperimen yang berjumlah 19 fitur. Daftar fitur yang menjadi bahan pertimbangan adalah age, balance, is_married, education_mapped, is_default, is_housing, job, is_poutcome_success, duration, campaign, pdays\n",
    "\n",
    "Metode Recursive Feature Elimination berperan dalam menentukan jumlah fitur penyusun model melalui penghapusan/eliminasi fitur yang memiliki nilai koefisien terendah secara iteratif untuk seluruh kombinasi fitur yang tersedia guna memperoleh nilai mean test recall yang paling optimal. Mengacu pada grafik, kondisi ideal mampu mengakomodasi sekitar 8 fitur yaitu age, balance, is_married, education_mapped, is_default, is_housing, is_loan dan job\n",
    "\n",
    "Merujuk pada kedua metode yang mampu merekomendasikan fitur pembentuk model, maka ditentukan fitur yang berkontribusi terhadap predictor yaitu age, balance, is_married, education_mapped, is_default, is_housing, is_loan dan job"
   ]
  },
  {
   "cell_type": "code",
   "execution_count": 190,
   "id": "7744e935",
   "metadata": {},
   "outputs": [
    {
     "data": {
      "text/plain": [
       "<matplotlib.legend.Legend at 0x203252b1390>"
      ]
     },
     "execution_count": 190,
     "metadata": {},
     "output_type": "execute_result"
    },
    {
     "data": {
      "image/png": "[encoded data removed]",
      "text/plain": [
       "<Figure size 600x450 with 1 Axes>"
      ]
     },
     "metadata": {},
     "output_type": "display_data"
    }
   ],
   "source": [
    "clf = RandomForestClassifier().fit(pd.concat([X_train, X_test]), pd.concat([y_train, y_test]))\n",
    "importance = np.abs(clf.feature_importances_)\n",
    "feature_names = np.array(X_train.columns)\n",
    "plt.figure(figsize = (6, 4.5), facecolor='#e8e6e1')\n",
    "ax = plt.axes()\n",
    "ax.set_facecolor('#f1f2f2')\n",
    "pd.DataFrame(list(zip(list(X_train.columns), clf.feature_importances_)), columns = ['feature', 'coef'])\\\n",
    "            .sort_values(by = ['coef'], ascending = True).reset_index(drop = True)\\\n",
    "            .plot(x = 'feature', kind = 'barh', fontsize = 8, ax = ax)\n",
    "plt.title(\"Feature Importances via Coefficients\")\n",
    "plt.xlabel('coefficient')\n",
    "plt.legend(loc = 'center right')"
   ]
  },
  {
   "cell_type": "code",
   "execution_count": 385,
   "id": "61624780",
   "metadata": {},
   "outputs": [],
   "source": [
    "from sklearn.metrics import accuracy_score, precision_score, recall_score, f1_score, roc_auc_score\n",
    "from sklearn.model_selection import cross_validate\n",
    "from sklearn.linear_model import LogisticRegression\n",
    "from sklearn.neighbors import KNeighborsClassifier\n",
    "from sklearn.tree import DecisionTreeClassifier\n",
    "from sklearn.ensemble import RandomForestClassifier\n",
    "from sklearn.ensemble import AdaBoostClassifier\n",
    "from xgboost import XGBClassifier\n",
    "from lightgbm import LGBMClassifier\n",
    "\n",
    "def eval_classification():\n",
    "    n_estimators = [int(x) for x in np.linspace(1, 200, 50)]\n",
    "    criterion = ['gini', 'entropy']\n",
    "    max_depth = [int(x) for x in np.linspace(2, 100, 50)]\n",
    "    min_samples_split = [int(x) for x in np.linspace(2, 20, 10)]\n",
    "    min_samples_leaf = [int(x) for x in np.linspace(2, 20, 10)]\n",
    "    \n",
    "    hyperparameters = dict(n_estimators=n_estimators, criterion=criterion, max_depth=max_depth,\n",
    "                           min_samples_split=min_samples_split, min_samples_leaf=min_samples_leaf)\n",
    "    \n",
    "    list_model = {'Logistic Regression' : LogisticRegression(),\n",
    "                  'KNN Classifier' : KNeighborsClassifier(),\n",
    "                  'Decision Tree Classifier' : DecisionTreeClassifier(),\n",
    "                  'Random Forest Classifier' : RandomForestClassifier(),\n",
    "                  'AdaBoost Classifier' : AdaBoostClassifier(),\n",
    "                  'XGBoost Classifier' : XGBClassifier(),\n",
    "                  'LGBM Classifier' : LGBMClassifier()}\n",
    "    \n",
    "    for key, val in list_model.items():\n",
    "        model = val\n",
    "        model.fit(X_train_over, y_train_over)\n",
    "    \n",
    "        y_pred = model.predict(X_test)\n",
    "        y_pred_train = model.predict(X_train)\n",
    "        y_pred_proba = model.predict_proba(X_test)\n",
    "        y_pred_proba_train = model.predict_proba(X_train)\n",
    "\n",
    "        print(key, \"Evaluation Result\")\n",
    "        print(\"Accuracy (Train Set): %.2f\" % accuracy_score(y_train, y_pred_train))\n",
    "        print(\"Accuracy (Test Set): %.2f\" % accuracy_score(y_test, y_pred))\n",
    "        print(\"Precision (Train Set): %.2f\" % precision_score(y_train, y_pred_train))\n",
    "        print(\"Precision (Test Set): %.2f\" % precision_score(y_test, y_pred))\n",
    "        print(\"Recall (Train Set): %.2f\" % recall_score(y_train, y_pred_train))\n",
    "        print(\"Recall (Test Set): %.2f\" % recall_score(y_test, y_pred))\n",
    "        print(\"F1-Score (Train Set): %.2f\" % f1_score(y_train, y_pred_train))\n",
    "        print(\"F1-Score (Test Set): %.2f\" % f1_score(y_test, y_pred))\n",
    "\n",
    "        print(\"roc_auc (train-proba): %.2f\" % roc_auc_score(y_train, y_pred_proba_train[:, 1]))\n",
    "        print(\"roc_auc (test-proba): %.2f\" % roc_auc_score(y_test, y_pred_proba[:, 1]))\n",
    "        print(\"\")"
   ]
  },
  {
   "cell_type": "code",
   "execution_count": 386,
   "id": "0c1402e7",
   "metadata": {},
   "outputs": [
    {
     "name": "stdout",
     "output_type": "stream",
     "text": [
      "Logistic Regression Evaluation Result\n",
      "Accuracy (Train Set): 0.87\n",
      "Accuracy (Test Set): 0.86\n",
      "Precision (Train Set): 0.46\n",
      "Precision (Test Set): 0.42\n",
      "Recall (Train Set): 0.68\n",
      "Recall (Test Set): 0.66\n",
      "F1-Score (Train Set): 0.55\n",
      "F1-Score (Test Set): 0.52\n",
      "roc_auc (train-proba): 0.89\n",
      "roc_auc (test-proba): 0.89\n",
      "\n",
      "KNN Classifier Evaluation Result\n",
      "Accuracy (Train Set): 0.91\n",
      "Accuracy (Test Set): 0.83\n",
      "Precision (Train Set): 0.56\n",
      "Precision (Test Set): 0.34\n",
      "Recall (Train Set): 0.87\n",
      "Recall (Test Set): 0.52\n",
      "F1-Score (Train Set): 0.68\n",
      "F1-Score (Test Set): 0.41\n",
      "roc_auc (train-proba): 0.97\n",
      "roc_auc (test-proba): 0.78\n",
      "\n",
      "Decision Tree Classifier Evaluation Result\n",
      "Accuracy (Train Set): 1.00\n",
      "Accuracy (Test Set): 0.86\n",
      "Precision (Train Set): 1.00\n",
      "Precision (Test Set): 0.40\n",
      "Recall (Train Set): 1.00\n",
      "Recall (Test Set): 0.53\n",
      "F1-Score (Train Set): 1.00\n",
      "F1-Score (Test Set): 0.46\n",
      "roc_auc (train-proba): 1.00\n",
      "roc_auc (test-proba): 0.72\n",
      "\n",
      "Random Forest Classifier Evaluation Result\n",
      "Accuracy (Train Set): 1.00\n",
      "Accuracy (Test Set): 0.90\n",
      "Precision (Train Set): 1.00\n",
      "Precision (Test Set): 0.53\n",
      "Recall (Train Set): 1.00\n",
      "Recall (Test Set): 0.60\n",
      "F1-Score (Train Set): 1.00\n",
      "F1-Score (Test Set): 0.56\n",
      "roc_auc (train-proba): 1.00\n",
      "roc_auc (test-proba): 0.91\n",
      "\n",
      "AdaBoost Classifier Evaluation Result\n",
      "Accuracy (Train Set): 0.89\n",
      "Accuracy (Test Set): 0.88\n",
      "Precision (Train Set): 0.51\n",
      "Precision (Test Set): 0.48\n",
      "Recall (Train Set): 0.60\n",
      "Recall (Test Set): 0.57\n",
      "F1-Score (Train Set): 0.55\n",
      "F1-Score (Test Set): 0.52\n",
      "roc_auc (train-proba): 0.90\n",
      "roc_auc (test-proba): 0.89\n",
      "\n",
      "XGBoost Classifier Evaluation Result\n",
      "Accuracy (Train Set): 0.95\n",
      "Accuracy (Test Set): 0.91\n",
      "Precision (Train Set): 0.83\n",
      "Precision (Test Set): 0.58\n",
      "Recall (Train Set): 0.71\n",
      "Recall (Test Set): 0.52\n",
      "F1-Score (Train Set): 0.76\n",
      "F1-Score (Test Set): 0.55\n",
      "roc_auc (train-proba): 0.97\n",
      "roc_auc (test-proba): 0.92\n",
      "\n",
      "[LightGBM] [Info] Number of positive: 12807, number of negative: 25615\n",
      "[LightGBM] [Warning] Auto-choosing row-wise multi-threading, the overhead of testing was 0.003400 seconds.\n",
      "You can set `force_row_wise=true` to remove the overhead.\n",
      "And if memory is not enough, you can set `force_col_wise=true`.\n",
      "[LightGBM] [Info] Total Bins 1829\n",
      "[LightGBM] [Info] Number of data points in the train set: 38422, number of used features: 32\n",
      "[LightGBM] [Info] [binary:BoostFromScore]: pavg=0.333325 -> initscore=-0.693186\n",
      "[LightGBM] [Info] Start training from score -0.693186\n",
      "LGBM Classifier Evaluation Result\n",
      "Accuracy (Train Set): 0.92\n",
      "Accuracy (Test Set): 0.90\n",
      "Precision (Train Set): 0.65\n",
      "Precision (Test Set): 0.55\n",
      "Recall (Train Set): 0.65\n",
      "Recall (Test Set): 0.58\n",
      "F1-Score (Train Set): 0.65\n",
      "F1-Score (Test Set): 0.57\n",
      "roc_auc (train-proba): 0.95\n",
      "roc_auc (test-proba): 0.92\n",
      "\n"
     ]
    }
   ],
   "source": [
    "eval_classification()"
   ]
  }
 ],
 "metadata": {
  "kernelspec": {
   "display_name": "Python 3 (ipykernel)",
   "language": "python",
   "name": "python3"
  },
  "language_info": {
   "codemirror_mode": {
    "name": "ipython",
    "version": 3
   },
   "file_extension": ".py",
   "mimetype": "text/x-python",
   "name": "python",
   "nbconvert_exporter": "python",
   "pygments_lexer": "ipython3",
   "version": "3.10.9"
  }
 },
 "nbformat": 4,
 "nbformat_minor": 5
}
